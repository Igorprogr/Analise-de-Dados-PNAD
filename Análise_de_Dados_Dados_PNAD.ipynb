{
  "nbformat": 4,
  "nbformat_minor": 0,
  "metadata": {
    "colab": {
      "provenance": [],
      "toc_visible": true,
      "authorship_tag": "ABX9TyN9ZMDbbYe8Rg2VdCeohTWk",
      "include_colab_link": true
    },
    "kernelspec": {
      "name": "python3",
      "display_name": "Python 3"
    },
    "language_info": {
      "name": "python"
    }
  },
  "cells": [
    {
      "cell_type": "markdown",
      "metadata": {
        "id": "view-in-github",
        "colab_type": "text"
      },
      "source": [
        "<a href=\"https://colab.research.google.com/github/Igorprogr/Analise-de-Dados-PNAD/blob/main/An%C3%A1lise_de_Dados_Dados_PNAD.ipynb\" target=\"_parent\"><img src=\"https://colab.research.google.com/assets/colab-badge.svg\" alt=\"Open In Colab\"/></a>"
      ]
    },
    {
      "cell_type": "markdown",
      "source": [
        "Projeto Data Science - Análise de Dados\n",
        "Projeto sobre análise de dados e responder perguntas com gráficos e métricas;\n",
        "\n",
        "A fazer:\n",
        "*Montar uma hipótese/pergunta e escolher variáveis do PNAD que podem responder minha pergunta -> fazer representações gráficas, tubulares e com métricas descritivas;*\n",
        "\n",
        "O que é PNAD?\n",
        "https://www.ibge.gov.br/estatisticas/sociais/populacao/9127-pesquisa-nacional-por-amostra-de-domicilios.html?=&t=o-que-e\n",
        "\n",
        "\n",
        "\n",
        "Índice com significado de cada pasta:\n",
        "https://ftp.ibge.gov.br/Trabalho_e_Rendimento/Pesquisa_Nacional_por_Amostra_de_Domicilios_anual/2015/Volume_Brasil/Brasil/00_indice_tabelas_brasil.txt\n",
        "\n"
      ],
      "metadata": {
        "id": "bKrmrdECkVO3"
      }
    },
    {
      "cell_type": "markdown",
      "source": [
        "# Tema: Educação e Emprego\n",
        "\n",
        "**Pergunta**: \"Qual é o impacto do nível educacional no salário médio dos indivíduos?\"\n",
        "\n",
        "---\n",
        "\n",
        "**Hipótese**: \"Indivíduos com nível superior completo têm um salário médio significativamente maior do que aqueles com ensino médio completo.\"\n",
        "Variáveis Possíveis do PNAD:\n",
        "\n",
        "-Nível de escolaridade;\n",
        "\n",
        "-Rendimento mensal;\n",
        "\n",
        "-Ocupação;"
      ],
      "metadata": {
        "id": "IlFmhOqBkFEY"
      }
    },
    {
      "cell_type": "code",
      "source": [
        "! pip install pandas matplotlib seaborn ezodf"
      ],
      "metadata": {
        "id": "SPFxFsnREG9W"
      },
      "execution_count": null,
      "outputs": []
    },
    {
      "cell_type": "code",
      "execution_count": null,
      "metadata": {
        "id": "xzrf23XSj5eo"
      },
      "outputs": [],
      "source": [
        "# Importações de bibliotecas\n",
        "import pandas as pd\n",
        "import numpy as np\n",
        "import matplotlib.pyplot as plt\n",
        "import seaborn as sns\n",
        "import ezodf"
      ]
    },
    {
      "cell_type": "code",
      "source": [
        "def read_ods(filename, sheet_index=0):\n",
        "  doc = ezodf.opendoc(filename)\n",
        "  sheet = doc.sheets[sheet_index]\n",
        "\n",
        "  data = [[cell.value for cell in row] for row in sheet.rows()]\n",
        "  df = pd.DataFrame(data[1:], columns=data[0])\n",
        "\n",
        "  return df"
      ],
      "metadata": {
        "id": "bgXojbN-O1XQ"
      },
      "execution_count": null,
      "outputs": []
    },
    {
      "cell_type": "code",
      "source": [
        "#Título do conteúdo da tabela:\n",
        "#Tabela 4.10 - Pessoas de 15 anos ou mais de idade, ocupadas na semana de\n",
        "#referência, por grupos de anos de estudo, segundo o sexo e as classes de rendimento mensal de todos os trabalhos - Brasil - 2015\n",
        "\n",
        "df_rendimentoMensalTrabalhoRAW = read_ods('Tabela 4.10 - 1-1.ods')"
      ],
      "metadata": {
        "id": "TrWpmV3oD7PY"
      },
      "execution_count": null,
      "outputs": []
    },
    {
      "cell_type": "code",
      "source": [
        "df_rendimentoMensalTrabalhoRAW.dtypes"
      ],
      "metadata": {
        "id": "P0rXbOpjRRJQ"
      },
      "execution_count": null,
      "outputs": []
    },
    {
      "cell_type": "markdown",
      "source": [
        "Dicionário de Abreviações:\n",
        "\n",
        "-Na nomeação das variáveis: \"RM\" = Rendimento Mensal;\n"
      ],
      "metadata": {
        "id": "2DiceCRtK7QS"
      }
    },
    {
      "cell_type": "code",
      "source": [
        "#Remove linha que inúteis do começo\n",
        "indicesParaDeletar = [0, 1, 2, 3]\n",
        "\n",
        "df_RMAnosDeEstudo = df_rendimentoMensalTrabalhoRAW.drop(indicesParaDeletar, axis='index')\n",
        "\n",
        "df_RMAnosDeEstudo.reset_index(drop=True, inplace=True)"
      ],
      "metadata": {
        "id": "oB_Rgm8Minwq"
      },
      "execution_count": null,
      "outputs": []
    },
    {
      "cell_type": "code",
      "source": [
        "#Define novo cabeçalho\n",
        "new_header = df_RMAnosDeEstudo.iloc[0]\n",
        "df_RMAnosDeEstudo = df_RMAnosDeEstudo[1:]\n",
        "df_RMAnosDeEstudo.columns = new_header"
      ],
      "metadata": {
        "id": "tPrW6JlekWtq"
      },
      "execution_count": null,
      "outputs": []
    },
    {
      "cell_type": "code",
      "source": [
        "#Muda apenas o índice de uma coluna isolada\n",
        "df_RMAnosDeEstudo.columns.values[1] = 'total'\n",
        "df_RMAnosDeEstudo.columns.values[0] = 'anos de instrução'\n",
        "#Retirar a última coluna\n",
        "#df_RMAnosDeEstudo.drop(columns=df_RMAnosDeEstudo.columns[9])"
      ],
      "metadata": {
        "id": "ogRuGHZlcMk2"
      },
      "execution_count": null,
      "outputs": []
    },
    {
      "cell_type": "code",
      "source": [
        "#Identifica a coluna nula, a guarda em uma variável e a deleta\n",
        "coluna_sem_nome = df_RMAnosDeEstudo.columns[df_RMAnosDeEstudo.columns.isnull()]\n",
        "df_RMAnosDeEstudo.drop(columns=coluna_sem_nome, inplace=True)\n",
        "#Just let the columns that are indicating the \"total\", the sum between man and wemen\n",
        "df_RMAnosDeEstudoTotal = df_RMAnosDeEstudo.drop(df_RMAnosDeEstudo.iloc[11:44].index)\n",
        "df_RMAnosDeEstudoTotal.head(50)"
      ],
      "metadata": {
        "id": "HhNyPXZdfDH0"
      },
      "execution_count": null,
      "outputs": []
    },
    {
      "cell_type": "code",
      "source": [
        "df_RMAnosDeEstudoTotal.dtypes"
      ],
      "metadata": {
        "id": "HIGr0rIHrJWk"
      },
      "execution_count": null,
      "outputs": []
    },
    {
      "cell_type": "code",
      "source": [
        "#Discover how to use strip to take of the spaces on the index's words, maybe they are giving problems.\n",
        "df.rename(columns=lambda x:x.strip(), inplace=True)"
      ],
      "metadata": {
        "id": "WBdDeolLwTvD"
      },
      "execution_count": 68,
      "outputs": []
    },
    {
      "cell_type": "code",
      "source": [
        "df_RMAnosDeEstudoTotal.info()\n"
      ],
      "metadata": {
        "id": "Z_0JcYH4tBv9"
      },
      "execution_count": null,
      "outputs": []
    },
    {
      "cell_type": "code",
      "source": [
        "# Mark the content of the cell and press Ctrl+ /.\n",
        "# It will comment out all lines in that cell. Repeat the same steps to uncomment the lines of your cell.\n",
        "\n",
        "# Adapte o código a seguir para fazer um código de barrsr empilhadas:\n",
        "\n",
        "# # Dados de exemplo\n",
        "# data = {\n",
        "#     'Categoria': ['A', 'B', 'C'],\n",
        "#     'Parte1': [10, 20, 30],\n",
        "#     'Parte2': [15, 25, 35],\n",
        "#     'Parte3': [10, 15, 5]\n",
        "# }\n",
        "\n",
        "# df = pd.DataFrame(data)\n",
        "\n",
        "# # Configuração do gráfico\n",
        "# plt.figure(figsize=(10, 6))\n",
        "# plt.bar(df['Categoria'], df['Parte1'], label='Parte 1', color='skyblue')\n",
        "# plt.bar(df['Categoria'], df['Parte2'], bottom=df['Parte1'], label='Parte 2', color='lightgreen')\n",
        "# plt.bar(df['Categoria'], df['Parte3'], bottom=df['Parte1'] + df['Parte2'], label='Parte 3', color='salmon')\n",
        "\n",
        "# # Adicionar título e rótulos\n",
        "# plt.title('Stacked Bar Chart Example')\n",
        "# plt.xlabel('Categoria')\n",
        "# plt.ylabel('Valores')\n",
        "# plt.legend()\n",
        "\n",
        "# plt.show()\n",
        "\n",
        "#TRYING TO CREATE THE GRAPH\n",
        "#Configuração do Gráfico\n",
        "plt.figure(figsize=(10, 6))\n",
        "#aparentemente cada uma dessas plt.bar são uma cor de cada barra que eu quero empilar\n",
        "plt.bar(df_RMAnosDeEstudoTotal['anos de instrução'], df_RMAnosDeEstudoTotal['Até 1/2 salário mínimo'], label='Até 1/2 salário mínimo', color='skyblue')\n",
        "plt.bar(df_RMAnosDeEstudoTotal['anos de instrução'], df_RMAnosDeEstudoTotal['Mais de 1/2 a 1 salário mínimo'], bottom=df_RMAnosDeEstudoTotal['Até 1/2 salário mínimo'], label='Mais de 1/2 a 1 salário mínimo', color='lightgreen')\n",
        "plt.bar(df_RMAnosDeEstudoTotal['anos de instrução'], df_RMAnosDeEstudoTotal['Mais de 1 a 2 salários mínimos'], bottom=df_RMAnosDeEstudoTotal['Até 1/2 salário mínimo'], bottom=df_RMAnosDeEstudoTotal['Mais de 1/2 a 1 salário mínimo'], label='Mais de 1 a 2 salários mínimos', color='salmon')\n",
        "\n",
        "plt.title('Gráfico de Colunas Empilhadas')\n",
        "plt.xlabel('anos de instrução')\n",
        "plt.ylabel('total')\n",
        "plt.legend()\n",
        "\n",
        "plt.show()"
      ],
      "metadata": {
        "id": "GsuASwsRSwR6",
        "colab": {
          "base_uri": "https://localhost:8080/",
          "height": 564
        },
        "outputId": "a34920ae-0d58-4fa5-decb-6879b7889d82"
      },
      "execution_count": 69,
      "outputs": [
        {
          "output_type": "error",
          "ename": "KeyError",
          "evalue": "'Até 1/2 salário mínimo'",
          "traceback": [
            "\u001b[0;31m---------------------------------------------------------------------------\u001b[0m",
            "\u001b[0;31mKeyError\u001b[0m                                  Traceback (most recent call last)",
            "\u001b[0;32m/usr/local/lib/python3.10/dist-packages/pandas/core/indexes/base.py\u001b[0m in \u001b[0;36mget_loc\u001b[0;34m(self, key)\u001b[0m\n\u001b[1;32m   3804\u001b[0m         \u001b[0;32mtry\u001b[0m\u001b[0;34m:\u001b[0m\u001b[0;34m\u001b[0m\u001b[0;34m\u001b[0m\u001b[0m\n\u001b[0;32m-> 3805\u001b[0;31m             \u001b[0;32mreturn\u001b[0m \u001b[0mself\u001b[0m\u001b[0;34m.\u001b[0m\u001b[0m_engine\u001b[0m\u001b[0;34m.\u001b[0m\u001b[0mget_loc\u001b[0m\u001b[0;34m(\u001b[0m\u001b[0mcasted_key\u001b[0m\u001b[0;34m)\u001b[0m\u001b[0;34m\u001b[0m\u001b[0;34m\u001b[0m\u001b[0m\n\u001b[0m\u001b[1;32m   3806\u001b[0m         \u001b[0;32mexcept\u001b[0m \u001b[0mKeyError\u001b[0m \u001b[0;32mas\u001b[0m \u001b[0merr\u001b[0m\u001b[0;34m:\u001b[0m\u001b[0;34m\u001b[0m\u001b[0;34m\u001b[0m\u001b[0m\n",
            "\u001b[0;32mindex.pyx\u001b[0m in \u001b[0;36mpandas._libs.index.IndexEngine.get_loc\u001b[0;34m()\u001b[0m\n",
            "\u001b[0;32mindex.pyx\u001b[0m in \u001b[0;36mpandas._libs.index.IndexEngine.get_loc\u001b[0;34m()\u001b[0m\n",
            "\u001b[0;32mpandas/_libs/hashtable_class_helper.pxi\u001b[0m in \u001b[0;36mpandas._libs.hashtable.PyObjectHashTable.get_item\u001b[0;34m()\u001b[0m\n",
            "\u001b[0;32mpandas/_libs/hashtable_class_helper.pxi\u001b[0m in \u001b[0;36mpandas._libs.hashtable.PyObjectHashTable.get_item\u001b[0;34m()\u001b[0m\n",
            "\u001b[0;31mKeyError\u001b[0m: 'Até 1/2 salário mínimo'",
            "\nThe above exception was the direct cause of the following exception:\n",
            "\u001b[0;31mKeyError\u001b[0m                                  Traceback (most recent call last)",
            "\u001b[0;32m<ipython-input-69-961a20a7d79c>\u001b[0m in \u001b[0;36m<cell line: 34>\u001b[0;34m()\u001b[0m\n\u001b[1;32m     32\u001b[0m \u001b[0mplt\u001b[0m\u001b[0;34m.\u001b[0m\u001b[0mfigure\u001b[0m\u001b[0;34m(\u001b[0m\u001b[0mfigsize\u001b[0m\u001b[0;34m=\u001b[0m\u001b[0;34m(\u001b[0m\u001b[0;36m10\u001b[0m\u001b[0;34m,\u001b[0m \u001b[0;36m6\u001b[0m\u001b[0;34m)\u001b[0m\u001b[0;34m)\u001b[0m\u001b[0;34m\u001b[0m\u001b[0;34m\u001b[0m\u001b[0m\n\u001b[1;32m     33\u001b[0m \u001b[0;31m#aparentemente cada uma dessas plt.bar são uma cor de cada barra que eu quero empilar\u001b[0m\u001b[0;34m\u001b[0m\u001b[0;34m\u001b[0m\u001b[0m\n\u001b[0;32m---> 34\u001b[0;31m \u001b[0mplt\u001b[0m\u001b[0;34m.\u001b[0m\u001b[0mbar\u001b[0m\u001b[0;34m(\u001b[0m\u001b[0mdf_RMAnosDeEstudoTotal\u001b[0m\u001b[0;34m[\u001b[0m\u001b[0;34m'anos de instrução'\u001b[0m\u001b[0;34m]\u001b[0m\u001b[0;34m,\u001b[0m \u001b[0mdf_RMAnosDeEstudoTotal\u001b[0m\u001b[0;34m[\u001b[0m\u001b[0;34m'Até 1/2 salário mínimo'\u001b[0m\u001b[0;34m]\u001b[0m\u001b[0;34m,\u001b[0m \u001b[0mlabel\u001b[0m\u001b[0;34m=\u001b[0m\u001b[0;34m'Até 1/2 salário mínimo'\u001b[0m\u001b[0;34m,\u001b[0m \u001b[0mcolor\u001b[0m\u001b[0;34m=\u001b[0m\u001b[0;34m'skyblue'\u001b[0m\u001b[0;34m)\u001b[0m\u001b[0;34m\u001b[0m\u001b[0;34m\u001b[0m\u001b[0m\n\u001b[0m\u001b[1;32m     35\u001b[0m \u001b[0mplt\u001b[0m\u001b[0;34m.\u001b[0m\u001b[0mbar\u001b[0m\u001b[0;34m(\u001b[0m\u001b[0mdf_RMAnosDeEstudoTotal\u001b[0m\u001b[0;34m[\u001b[0m\u001b[0;34m'anos de instrução'\u001b[0m\u001b[0;34m]\u001b[0m\u001b[0;34m,\u001b[0m \u001b[0mdf_RMAnosDeEstudoTotal\u001b[0m\u001b[0;34m[\u001b[0m\u001b[0;34m'Mais de 1/2 a 1 salário mínimo'\u001b[0m\u001b[0;34m]\u001b[0m\u001b[0;34m,\u001b[0m \u001b[0mbottom\u001b[0m\u001b[0;34m=\u001b[0m\u001b[0mdf_RMAnosDeEstudoTotal\u001b[0m\u001b[0;34m[\u001b[0m\u001b[0;34m'Até 1/2 salário mínimo'\u001b[0m\u001b[0;34m]\u001b[0m\u001b[0;34m,\u001b[0m \u001b[0mlabel\u001b[0m\u001b[0;34m=\u001b[0m\u001b[0;34m'Mais de 1/2 a 1 salário mínimo'\u001b[0m\u001b[0;34m,\u001b[0m \u001b[0mcolor\u001b[0m\u001b[0;34m=\u001b[0m\u001b[0;34m'lightgreen'\u001b[0m\u001b[0;34m)\u001b[0m\u001b[0;34m\u001b[0m\u001b[0;34m\u001b[0m\u001b[0m\n\u001b[1;32m     36\u001b[0m \u001b[0mplt\u001b[0m\u001b[0;34m.\u001b[0m\u001b[0mbar\u001b[0m\u001b[0;34m(\u001b[0m\u001b[0mdf_RMAnosDeEstudoTotal\u001b[0m\u001b[0;34m[\u001b[0m\u001b[0;34m'anos de instrução'\u001b[0m\u001b[0;34m]\u001b[0m\u001b[0;34m,\u001b[0m \u001b[0mdf_RMAnosDeEstudoTotal\u001b[0m\u001b[0;34m[\u001b[0m\u001b[0;34m'Mais de 1 a 2 salários mínimos'\u001b[0m\u001b[0;34m]\u001b[0m\u001b[0;34m,\u001b[0m \u001b[0mbottom\u001b[0m\u001b[0;34m=\u001b[0m\u001b[0mdf_RMAnosDeEstudoTotal\u001b[0m\u001b[0;34m[\u001b[0m\u001b[0;34m'Até 1/2 salário mínimo'\u001b[0m\u001b[0;34m]\u001b[0m\u001b[0;34m,\u001b[0m \u001b[0mbottom\u001b[0m\u001b[0;34m=\u001b[0m\u001b[0mdf_RMAnosDeEstudoTotal\u001b[0m\u001b[0;34m[\u001b[0m\u001b[0;34m'Mais de 1/2 a 1 salário mínimo'\u001b[0m\u001b[0;34m]\u001b[0m\u001b[0;34m,\u001b[0m \u001b[0mlabel\u001b[0m\u001b[0;34m=\u001b[0m\u001b[0;34m'Mais de 1 a 2 salários mínimos'\u001b[0m\u001b[0;34m,\u001b[0m \u001b[0mcolor\u001b[0m\u001b[0;34m=\u001b[0m\u001b[0;34m'salmon'\u001b[0m\u001b[0;34m)\u001b[0m\u001b[0;34m\u001b[0m\u001b[0;34m\u001b[0m\u001b[0m\n",
            "\u001b[0;32m/usr/local/lib/python3.10/dist-packages/pandas/core/frame.py\u001b[0m in \u001b[0;36m__getitem__\u001b[0;34m(self, key)\u001b[0m\n\u001b[1;32m   4100\u001b[0m             \u001b[0;32mif\u001b[0m \u001b[0mself\u001b[0m\u001b[0;34m.\u001b[0m\u001b[0mcolumns\u001b[0m\u001b[0;34m.\u001b[0m\u001b[0mnlevels\u001b[0m \u001b[0;34m>\u001b[0m \u001b[0;36m1\u001b[0m\u001b[0;34m:\u001b[0m\u001b[0;34m\u001b[0m\u001b[0;34m\u001b[0m\u001b[0m\n\u001b[1;32m   4101\u001b[0m                 \u001b[0;32mreturn\u001b[0m \u001b[0mself\u001b[0m\u001b[0;34m.\u001b[0m\u001b[0m_getitem_multilevel\u001b[0m\u001b[0;34m(\u001b[0m\u001b[0mkey\u001b[0m\u001b[0;34m)\u001b[0m\u001b[0;34m\u001b[0m\u001b[0;34m\u001b[0m\u001b[0m\n\u001b[0;32m-> 4102\u001b[0;31m             \u001b[0mindexer\u001b[0m \u001b[0;34m=\u001b[0m \u001b[0mself\u001b[0m\u001b[0;34m.\u001b[0m\u001b[0mcolumns\u001b[0m\u001b[0;34m.\u001b[0m\u001b[0mget_loc\u001b[0m\u001b[0;34m(\u001b[0m\u001b[0mkey\u001b[0m\u001b[0;34m)\u001b[0m\u001b[0;34m\u001b[0m\u001b[0;34m\u001b[0m\u001b[0m\n\u001b[0m\u001b[1;32m   4103\u001b[0m             \u001b[0;32mif\u001b[0m \u001b[0mis_integer\u001b[0m\u001b[0;34m(\u001b[0m\u001b[0mindexer\u001b[0m\u001b[0;34m)\u001b[0m\u001b[0;34m:\u001b[0m\u001b[0;34m\u001b[0m\u001b[0;34m\u001b[0m\u001b[0m\n\u001b[1;32m   4104\u001b[0m                 \u001b[0mindexer\u001b[0m \u001b[0;34m=\u001b[0m \u001b[0;34m[\u001b[0m\u001b[0mindexer\u001b[0m\u001b[0;34m]\u001b[0m\u001b[0;34m\u001b[0m\u001b[0;34m\u001b[0m\u001b[0m\n",
            "\u001b[0;32m/usr/local/lib/python3.10/dist-packages/pandas/core/indexes/base.py\u001b[0m in \u001b[0;36mget_loc\u001b[0;34m(self, key)\u001b[0m\n\u001b[1;32m   3810\u001b[0m             ):\n\u001b[1;32m   3811\u001b[0m                 \u001b[0;32mraise\u001b[0m \u001b[0mInvalidIndexError\u001b[0m\u001b[0;34m(\u001b[0m\u001b[0mkey\u001b[0m\u001b[0;34m)\u001b[0m\u001b[0;34m\u001b[0m\u001b[0;34m\u001b[0m\u001b[0m\n\u001b[0;32m-> 3812\u001b[0;31m             \u001b[0;32mraise\u001b[0m \u001b[0mKeyError\u001b[0m\u001b[0;34m(\u001b[0m\u001b[0mkey\u001b[0m\u001b[0;34m)\u001b[0m \u001b[0;32mfrom\u001b[0m \u001b[0merr\u001b[0m\u001b[0;34m\u001b[0m\u001b[0;34m\u001b[0m\u001b[0m\n\u001b[0m\u001b[1;32m   3813\u001b[0m         \u001b[0;32mexcept\u001b[0m \u001b[0mTypeError\u001b[0m\u001b[0;34m:\u001b[0m\u001b[0;34m\u001b[0m\u001b[0;34m\u001b[0m\u001b[0m\n\u001b[1;32m   3814\u001b[0m             \u001b[0;31m# If we have a listlike key, _check_indexing_error will raise\u001b[0m\u001b[0;34m\u001b[0m\u001b[0;34m\u001b[0m\u001b[0m\n",
            "\u001b[0;31mKeyError\u001b[0m: 'Até 1/2 salário mínimo'"
          ]
        },
        {
          "output_type": "display_data",
          "data": {
            "text/plain": [
              "<Figure size 1000x600 with 0 Axes>"
            ]
          },
          "metadata": {}
        }
      ]
    },
    {
      "cell_type": "code",
      "source": [
        "# Dados de exemplo\n",
        "data = {\n",
        "    'Categoria': ['A', 'B', 'C'],\n",
        "    'Parte1': [10, 20, 30],\n",
        "    'Parte2': [15, 25, 35],\n",
        "    'Parte3': [10, 15, 5]\n",
        "}\n",
        "\n",
        "df = pd.DataFrame(data)\n",
        "\n",
        "# Configuração do gráfico\n",
        "plt.figure(figsize=(10, 6))\n",
        "plt.bar(df['Categoria'], df['Parte1'], label='Parte 1', color='skyblue')\n",
        "plt.bar(df['Categoria'], df['Parte2'], bottom=df['Parte1'], label='Parte 2', color='lightgreen')\n",
        "plt.bar(df['Categoria'], df['Parte3'], bottom=df['Parte1'] + df['Parte2'], label='Parte 3', color='salmon')\n",
        "\n",
        "# Adicionar título e rótulos\n",
        "plt.title('Stacked Bar Chart Example')\n",
        "plt.xlabel('Categoria')\n",
        "plt.ylabel('Valores')\n",
        "plt.legend()\n",
        "\n",
        "plt.show()\n"
      ],
      "metadata": {
        "id": "C51LcA-cSQRC"
      },
      "execution_count": null,
      "outputs": []
    }
  ]
}