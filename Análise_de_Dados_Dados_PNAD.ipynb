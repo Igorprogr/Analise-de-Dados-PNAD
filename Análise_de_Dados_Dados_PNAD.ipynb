{
  "nbformat": 4,
  "nbformat_minor": 0,
  "metadata": {
    "colab": {
      "provenance": [],
      "authorship_tag": "ABX9TyPD5UCsdfu2LGWO2WZONgNs",
      "include_colab_link": true
    },
    "kernelspec": {
      "name": "python3",
      "display_name": "Python 3"
    },
    "language_info": {
      "name": "python"
    }
  },
  "cells": [
    {
      "cell_type": "markdown",
      "metadata": {
        "id": "view-in-github",
        "colab_type": "text"
      },
      "source": [
        "<a href=\"https://colab.research.google.com/github/Igorprogr/Analise-de-Dados-PNAD/blob/main/An%C3%A1lise_de_Dados_Dados_PNAD.ipynb\" target=\"_parent\"><img src=\"https://colab.research.google.com/assets/colab-badge.svg\" alt=\"Open In Colab\"/></a>"
      ]
    },
    {
      "cell_type": "markdown",
      "source": [
        "Projeto Data Science - Análise de Dados\n",
        "Projeto sobre análise de dados e responder perguntas com gráficos e métricas;\n",
        "\n",
        "A fazer:\n",
        "*Montar uma hipótese/pergunta e escolher variáveis do PNAD que podem responder minha pergunta -> fazer representações gráficas, tubulares e com métricas descritivas;*\n",
        "\n",
        "O que é PNAD?\n",
        "https://www.ibge.gov.br/estatisticas/sociais/populacao/9127-pesquisa-nacional-por-amostra-de-domicilios.html?=&t=o-que-e\n",
        "\n",
        "\n",
        "\n",
        "Índice com significado de cada pasta:\n",
        "https://ftp.ibge.gov.br/Trabalho_e_Rendimento/Pesquisa_Nacional_por_Amostra_de_Domicilios_anual/2015/Volume_Brasil/Brasil/00_indice_tabelas_brasil.txt\n",
        "\n"
      ],
      "metadata": {
        "id": "bKrmrdECkVO3"
      }
    },
    {
      "cell_type": "markdown",
      "source": [
        "# Tema: Educação e Emprego\n",
        "\n",
        "**Pergunta**: \"Qual é o impacto do nível educacional no salário médio dos indivíduos?\"\n",
        "\n",
        "---\n",
        "\n",
        "**Hipótese**: \"Indivíduos com nível superior completo têm um salário médio significativamente maior do que aqueles com ensino médio completo.\"\n",
        "Variáveis Possíveis do PNAD:\n",
        "\n",
        "-Nível de escolaridade;\n",
        "\n",
        "-Rendimento mensal;\n",
        "\n",
        "-Ocupação;"
      ],
      "metadata": {
        "id": "IlFmhOqBkFEY"
      }
    },
    {
      "cell_type": "code",
      "source": [
        "! pip install pandas matplotlib seaborn ezodf"
      ],
      "metadata": {
        "id": "SPFxFsnREG9W"
      },
      "execution_count": null,
      "outputs": []
    },
    {
      "cell_type": "code",
      "execution_count": null,
      "metadata": {
        "id": "xzrf23XSj5eo"
      },
      "outputs": [],
      "source": [
        "# Importações de bibliotecas\n",
        "import pandas as pd\n",
        "import numpy as np\n",
        "import matplotlib.pyplot as plt\n",
        "import seaborn as sns\n",
        "import ezodf"
      ]
    },
    {
      "cell_type": "code",
      "source": [
        "def read_ods(filename, sheet_index=0):\n",
        "  doc = ezodf.opendoc(filename)\n",
        "  sheet = doc.sheets[sheet_index]\n",
        "\n",
        "  data = [[cell.value for cell in row] for row in sheet.rows()]\n",
        "  df = pd.DataFrame(data[1:], columns=data[0])\n",
        "\n",
        "  return df"
      ],
      "metadata": {
        "id": "bgXojbN-O1XQ"
      },
      "execution_count": null,
      "outputs": []
    },
    {
      "cell_type": "code",
      "source": [
        "#Título do conteúdo da tabela:\n",
        "#Tabela 4.10 - Pessoas de 15 anos ou mais de idade, ocupadas na semana de\n",
        "#referência, por grupos de anos de estudo, segundo o sexo e as classes de rendimento mensal de todos os trabalhos - Brasil - 2015\n",
        "\n",
        "df_rendimentoMensalTrabalhoRAW = read_ods('Tabela 4.10 - 1-1.ods')"
      ],
      "metadata": {
        "id": "TrWpmV3oD7PY"
      },
      "execution_count": null,
      "outputs": []
    },
    {
      "cell_type": "code",
      "source": [
        "df_rendimentoMensalTrabalhoRAW.dtypes"
      ],
      "metadata": {
        "id": "P0rXbOpjRRJQ"
      },
      "execution_count": null,
      "outputs": []
    },
    {
      "cell_type": "code",
      "source": [
        "df_rendimentoMensalTrabalhoRAW.head(5)"
      ],
      "metadata": {
        "id": "JnUcQcq5RXXv"
      },
      "execution_count": null,
      "outputs": []
    },
    {
      "cell_type": "markdown",
      "source": [
        "Dicionário de Abreviações:\n",
        "\n",
        "-Na nomeação das variáveis: \"RM\" = Rendimento Mensal;\n"
      ],
      "metadata": {
        "id": "2DiceCRtK7QS"
      }
    },
    {
      "cell_type": "code",
      "source": [
        "#Remove linha que inúteis do começo\n",
        "df_RMAnosDeEstudo = df_rendimentoMensalTrabalhoRAW.drop(index=[0, 1, 2, 3], axis=0)\n",
        "\n",
        "df_RMAnosDeEstudo.reset_index(drop=True, inplace=True)\n",
        "\n",
        "df_RMAnosDeEstudo = pd.Series([3, 4])"
      ],
      "metadata": {
        "id": "oB_Rgm8Minwq"
      },
      "execution_count": null,
      "outputs": []
    },
    {
      "cell_type": "code",
      "source": [
        "df_RMAnosDeEstudo.head()"
      ],
      "metadata": {
        "id": "XpTty9ABjlk4"
      },
      "execution_count": null,
      "outputs": []
    },
    {
      "cell_type": "code",
      "source": [
        "#Define novo cabeçalho\n",
        "new_header = df_RMAnosDeEstudo.iloc[0]\n",
        "df_RMAnosDeEstudo = df_RMAnosDeEstudo[1:]\n",
        "df_RMAnosDeEstudo.columns = new_header"
      ],
      "metadata": {
        "id": "tPrW6JlekWtq"
      },
      "execution_count": null,
      "outputs": []
    },
    {
      "cell_type": "code",
      "source": [
        "df_RMAnosDeEstudo.head()"
      ],
      "metadata": {
        "id": "mjYU9LhEk3nc"
      },
      "execution_count": null,
      "outputs": []
    },
    {
      "cell_type": "code",
      "source": [
        "#Tabela 4.12 - Pessoas de 15 anos ou mais de idade, ocupadas na semana de refer�ncia e valor de rendimento m�dio mensal de todos os\n",
        "#trabalhos das pessoas de 15 anos ou mais de idade, ocupadas na semana de refer�ncia, por sexo, segundo as classes de rendimento mensal\n",
        "#de todos os trabalhos - Brasil - 2015\n",
        "\n"
      ],
      "metadata": {
        "id": "SNOmZKo5LRlT"
      },
      "execution_count": null,
      "outputs": []
    },
    {
      "cell_type": "markdown",
      "source": [
        "Gráfico de Barras para deixar mais visual os dados da tabela de rendimento mensal por anos de estudo"
      ],
      "metadata": {
        "id": "RHPOXe4DSoAp"
      }
    },
    {
      "cell_type": "code",
      "source": [
        "#Tentar implementar o 'iloc' nessa definição dos eixos\n",
        "eixoY_AnosDeEstudo = df_RMAnosDeEstudo.rows\n",
        "eixoX_AnosDeEstudo = df_RMAnosDeEstudo.columns\n",
        "\n",
        "plt.figure(figsize=(32,9))\n",
        "sns.barplot(x=eixoX_AnosDeEstudo, y=eixoY_AnosDeEstudo, data=df_RMAnosDeEstudo)\n",
        "plt.title('Rendimento Mensal por Anos de Estudo')\n",
        "plt.xlabel('Rendimento Mensal')\n",
        "plt.ylabel('Anos de Estudo')\n",
        "plt.show()"
      ],
      "metadata": {
        "id": "GsuASwsRSwR6"
      },
      "execution_count": null,
      "outputs": []
    }
  ]
}