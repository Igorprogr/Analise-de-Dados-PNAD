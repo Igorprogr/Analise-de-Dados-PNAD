{
  "nbformat": 4,
  "nbformat_minor": 0,
  "metadata": {
    "colab": {
      "provenance": [],
      "authorship_tag": "ABX9TyMSrEBqZD4chUhLy9W6Slxg",
      "include_colab_link": true
    },
    "kernelspec": {
      "name": "python3",
      "display_name": "Python 3"
    },
    "language_info": {
      "name": "python"
    }
  },
  "cells": [
    {
      "cell_type": "markdown",
      "metadata": {
        "id": "view-in-github",
        "colab_type": "text"
      },
      "source": [
        "<a href=\"https://colab.research.google.com/github/Igorprogr/Analise-de-Dados-PNAD/blob/main/An%C3%A1lise_de_Dados_Dados_PNAD.ipynb\" target=\"_parent\"><img src=\"https://colab.research.google.com/assets/colab-badge.svg\" alt=\"Open In Colab\"/></a>"
      ]
    },
    {
      "cell_type": "markdown",
      "source": [
        "Projeto Data Science - Análise de Dados\n",
        "Projeto sobre análise de dados e responder perguntas com gráficos e métricas;\n",
        "\n",
        "A fazer:\n",
        "*Montar uma hipótese/pergunta e escolher variáveis do PNAD que podem responder minha pergunta -> fazer representações gráficas, tubulares e com métricas descritivas;*\n",
        "\n",
        "O que é PNAD?\n",
        "https://www.ibge.gov.br/estatisticas/sociais/populacao/9127-pesquisa-nacional-por-amostra-de-domicilios.html?=&t=o-que-e\n",
        "\n",
        "\n",
        "\n",
        "Índice com significado de cada pasta:\n",
        "https://ftp.ibge.gov.br/Trabalho_e_Rendimento/Pesquisa_Nacional_por_Amostra_de_Domicilios_anual/2015/Volume_Brasil/Brasil/00_indice_tabelas_brasil.txt\n",
        "\n"
      ],
      "metadata": {
        "id": "bKrmrdECkVO3"
      }
    },
    {
      "cell_type": "markdown",
      "source": [
        "# Tema: Educação e Emprego\n",
        "\n",
        "**Pergunta**: \"Qual é o impacto do nível educacional no salário médio dos indivíduos?\"\n",
        "\n",
        "---\n",
        "\n",
        "**Hipótese**: \"Indivíduos com nível superior completo têm um salário médio significativamente maior do que aqueles com ensino médio completo.\"\n",
        "Variáveis Possíveis do PNAD:\n",
        "\n",
        "-Nível de escolaridade;\n",
        "\n",
        "-Rendimento mensal;\n",
        "\n",
        "-Ocupação;"
      ],
      "metadata": {
        "id": "IlFmhOqBkFEY"
      }
    },
    {
      "cell_type": "code",
      "source": [
        "! pip install pandas matplotlib seaborn ezodf"
      ],
      "metadata": {
        "id": "SPFxFsnREG9W"
      },
      "execution_count": null,
      "outputs": []
    },
    {
      "cell_type": "code",
      "execution_count": null,
      "metadata": {
        "id": "xzrf23XSj5eo"
      },
      "outputs": [],
      "source": [
        "# Importações de bibliotecas\n",
        "import pandas as pd\n",
        "import numpy as np\n",
        "import matplotlib.pyplot as plt\n",
        "import seaborn as sns\n",
        "import ezodf"
      ]
    },
    {
      "cell_type": "code",
      "source": [
        "def read_ods(filename, sheet_index=0):\n",
        "  doc = ezodf.opendoc(filename)\n",
        "  sheet = doc.sheets[sheet_index]\n",
        "\n",
        "  data = [[cell.value for cell in row] for row in sheet.rows()]\n",
        "  df = pd.DataFrame(data[1:], columns=data[0])\n",
        "\n",
        "  return df"
      ],
      "metadata": {
        "id": "bgXojbN-O1XQ"
      },
      "execution_count": null,
      "outputs": []
    },
    {
      "cell_type": "code",
      "source": [
        "#Título do conteúdo da tabela:\n",
        "#Tabela 4.10 - Pessoas de 15 anos ou mais de idade, ocupadas na semana de\n",
        "#referência, por grupos de anos de estudo, segundo o sexo e as classes de rendimento mensal de todos os trabalhos - Brasil - 2015\n",
        "\n",
        "df_rendimentoMensalTrabalhoRAW = read_ods('Tabela 4.10 - 1-1.ods')"
      ],
      "metadata": {
        "id": "TrWpmV3oD7PY"
      },
      "execution_count": null,
      "outputs": []
    },
    {
      "cell_type": "code",
      "source": [
        "df_rendimentoMensalTrabalhoRAW.dtypes"
      ],
      "metadata": {
        "id": "P0rXbOpjRRJQ"
      },
      "execution_count": null,
      "outputs": []
    },
    {
      "cell_type": "markdown",
      "source": [
        "Dicionário de Abreviações:\n",
        "\n",
        "-Na nomeação das variáveis: \"RM\" = Rendimento Mensal;\n"
      ],
      "metadata": {
        "id": "2DiceCRtK7QS"
      }
    },
    {
      "cell_type": "code",
      "source": [
        "#Remove linha que inúteis do começo\n",
        "indicesParaDeletar = [0, 1, 2, 3]\n",
        "\n",
        "df_RMAnosDeEstudo = df_rendimentoMensalTrabalhoRAW.drop(indicesParaDeletar, axis='index')\n",
        "\n",
        "df_RMAnosDeEstudo.reset_index(drop=True, inplace=True)\n",
        "df_RMAnosDeEstudo.head()"
      ],
      "metadata": {
        "id": "oB_Rgm8Minwq"
      },
      "execution_count": null,
      "outputs": []
    },
    {
      "cell_type": "code",
      "source": [
        "#Define novo cabeçalho\n",
        "new_header = df_RMAnosDeEstudo.iloc[0]\n",
        "df_RMAnosDeEstudo = df_RMAnosDeEstudo[1:]\n",
        "df_RMAnosDeEstudo.columns = new_header"
      ],
      "metadata": {
        "id": "tPrW6JlekWtq"
      },
      "execution_count": null,
      "outputs": []
    },
    {
      "cell_type": "code",
      "source": [
        "#Muda apenas o índice de uma coluna isolada\n",
        "df_RMAnosDeEstudo.columns.values[1] = 'total'\n",
        "df_RMAnosDeEstudo.columns.values[0] = 'anos de instrução'\n",
        "#Retirar a última coluna\n",
        "#df_RMAnosDeEstudo.drop(columns=df_RMAnosDeEstudo.columns[9])"
      ],
      "metadata": {
        "id": "ogRuGHZlcMk2"
      },
      "execution_count": null,
      "outputs": []
    },
    {
      "cell_type": "code",
      "source": [
        "#Tabela 4.12 - Pessoas de 15 anos ou mais de idade, ocupadas na semana de refer�ncia e valor de rendimento m�dio mensal de todos os\n",
        "#trabalhos das pessoas de 15 anos ou mais de idade, ocupadas na semana de refer�ncia, por sexo, segundo as classes de rendimento mensal\n",
        "#de todos os trabalhos - Brasil - 2015 ...\n",
        "\n"
      ],
      "metadata": {
        "id": "SNOmZKo5LRlT"
      },
      "execution_count": null,
      "outputs": []
    },
    {
      "cell_type": "markdown",
      "source": [
        "Gráfico de Barras para deixar mais visual os dados da tabela de rendimento mensal por anos de estudo"
      ],
      "metadata": {
        "id": "RHPOXe4DSoAp"
      }
    },
    {
      "cell_type": "code",
      "source": [
        "# Mark the content of the cell and press Ctrl+ /.\n",
        "# It will comment out all lines in that cell. Repeat the same steps to uncomment the lines of your cell.\n",
        "\n",
        "# Adapte o código a seguir para fazer um código de barrar empilhadas:\n",
        "----------------------------------------------------------------------------------------------\n",
        "\n",
        "# import matplotlib.pyplot as plt\n",
        "# import pandas as pd\n",
        "\n",
        "# # Dados de exemplo\n",
        "# data = {\n",
        "#     'Categoria': ['A', 'B', 'C'],\n",
        "#     'Parte1': [10, 20, 30],\n",
        "#     'Parte2': [15, 25, 35],\n",
        "#     'Parte3': [10, 15, 5]\n",
        "# }\n",
        "\n",
        "# df = pd.DataFrame(data)\n",
        "\n",
        "# # Configuração do gráfico\n",
        "# plt.figure(figsize=(10, 6))\n",
        "# plt.bar(df['Categoria'], df['Parte1'], label='Parte 1', color='skyblue')\n",
        "# plt.bar(df['Categoria'], df['Parte2'], bottom=df['Parte1'], label='Parte 2', color='lightgreen')\n",
        "# plt.bar(df['Categoria'], df['Parte3'], bottom=df['Parte1'] + df['Parte2'], label='Parte 3', color='salmon')\n",
        "\n",
        "# # Adicionar título e rótulos\n",
        "# plt.title('Stacked Bar Chart Example')\n",
        "# plt.xlabel('Categoria')\n",
        "# plt.ylabel('Valores')\n",
        "# plt.legend()\n",
        "\n",
        "# plt.show()"
      ],
      "metadata": {
        "id": "GsuASwsRSwR6"
      },
      "execution_count": null,
      "outputs": []
    },
    {
      "cell_type": "code",
      "source": [],
      "metadata": {
        "id": "A0ol0d1NhD1u"
      },
      "execution_count": null,
      "outputs": []
    }
  ]
}