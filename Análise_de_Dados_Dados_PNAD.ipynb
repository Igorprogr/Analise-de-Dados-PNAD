{
  "nbformat": 4,
  "nbformat_minor": 0,
  "metadata": {
    "colab": {
      "provenance": [],
      "authorship_tag": "ABX9TyPzQx3KM4jckHtqFmk09ot/",
      "include_colab_link": true
    },
    "kernelspec": {
      "name": "python3",
      "display_name": "Python 3"
    },
    "language_info": {
      "name": "python"
    }
  },
  "cells": [
    {
      "cell_type": "markdown",
      "metadata": {
        "id": "view-in-github",
        "colab_type": "text"
      },
      "source": [
        "<a href=\"https://colab.research.google.com/github/Igorprogr/Analise-de-Dados-PNAD/blob/main/An%C3%A1lise_de_Dados_Dados_PNAD.ipynb\" target=\"_parent\"><img src=\"https://colab.research.google.com/assets/colab-badge.svg\" alt=\"Open In Colab\"/></a>"
      ]
    },
    {
      "cell_type": "markdown",
      "source": [
        "Projeto Data Science - Análise de Dados\n",
        "Projeto sobre análise de dados e responder perguntas com gráficos e métricas;\n",
        "\n",
        "A fazer:\n",
        "*Montar uma hipótese/pergunta e escolher variáveis do PNAD que podem responder minha pergunta -> fazer representações gráficas, tubulares e com métricas descritivas;*\n",
        "\n",
        "O que é PNAD?\n",
        "https://www.ibge.gov.br/estatisticas/sociais/populacao/9127-pesquisa-nacional-por-amostra-de-domicilios.html?=&t=o-que-e\n",
        "\n",
        "\n",
        "\n",
        "Índice com significado de cada pasta:\n",
        "https://ftp.ibge.gov.br/Trabalho_e_Rendimento/Pesquisa_Nacional_por_Amostra_de_Domicilios_anual/2015/Volume_Brasil/Brasil/00_indice_tabelas_brasil.txt\n",
        "\n"
      ],
      "metadata": {
        "id": "bKrmrdECkVO3"
      }
    },
    {
      "cell_type": "markdown",
      "source": [],
      "metadata": {
        "id": "IlFmhOqBkFEY"
      }
    },
    {
      "cell_type": "code",
      "execution_count": null,
      "metadata": {
        "id": "xzrf23XSj5eo"
      },
      "outputs": [],
      "source": []
    }
  ]
}